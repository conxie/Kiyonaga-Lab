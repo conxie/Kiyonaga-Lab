{
 "cells": [
  {
   "cell_type": "code",
   "execution_count": 1,
   "id": "889879d4",
   "metadata": {},
   "outputs": [],
   "source": [
    "import newDistrTempGenConditionFile\n",
    "import pandas as pd\n",
    "\n",
    "ouch = True\n",
    "while ouch:\n",
    "    try:\n",
    "        # Call the main function\n",
    "        newDistrTempGenConditionFile.main()\n",
    "        ouch = False\n",
    "    except ValueError:\n",
    "        print('b')\n",
    "        continue\n",
    "\n",
    "#df = pd.read_csv('updatedProbeTempCondFile.csv')\n"
   ]
  },
  {
   "cell_type": "markdown",
   "id": "92112924",
   "metadata": {},
   "source": []
  },
  {
   "cell_type": "code",
   "execution_count": 1,
   "id": "51650757",
   "metadata": {},
   "outputs": [],
   "source": [
    "import playingaround\n",
    "import pandas as pd\n",
    "\n",
    "ouch = True\n",
    "while ouch:\n",
    "    try:\n",
    "        # Call the main function\n",
    "        playingaround.main()\n",
    "        ouch = False\n",
    "    except ValueError:\n",
    "        print('b')\n",
    "        continue"
   ]
  }
 ],
 "metadata": {
  "kernelspec": {
   "display_name": "Python 3",
   "language": "python",
   "name": "python3"
  },
  "language_info": {
   "codemirror_mode": {
    "name": "ipython",
    "version": 3
   },
   "file_extension": ".py",
   "mimetype": "text/x-python",
   "name": "python",
   "nbconvert_exporter": "python",
   "pygments_lexer": "ipython3",
   "version": "3.11.9"
  }
 },
 "nbformat": 4,
 "nbformat_minor": 5
}
