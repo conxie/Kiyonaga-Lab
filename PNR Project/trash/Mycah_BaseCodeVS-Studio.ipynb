{
 "cells": [
  {
   "cell_type": "code",
   "execution_count": 1,
   "metadata": {},
   "outputs": [],
   "source": [
    "#!pip install numpy\n",
    "import numpy as np  # whole numpy lib is available, prepend 'np.'\n",
    "#!pip install pandas\n",
    "import pandas as pd\n",
    "import random\n",
    "import os  # handy system and path functions\n",
    "import sys  # to get file system encoding\n",
    "import glob\n",
    "import random\n"
   ]
  },
  {
   "cell_type": "markdown",
   "metadata": {},
   "source": [
    "# Load in stimuli + trl info"
   ]
  },
  {
   "cell_type": "code",
   "execution_count": null,
   "metadata": {},
   "outputs": [],
   "source": [
    "import glob\n",
    "import random\n",
    "import itertools\n",
    "imageFilePath = \"C:/Users/cocon/OneDrive/Documents/GitHub/Kiyonaga-Lab/PNR Project/stimuli\"\n",
    "\n",
    "strMapping = {'cu':'Mycah/cube/',\n",
    "              'cy':'Mycah/cylinder/',\n",
    "              'sp':'Mycah/sphere/'}\n",
    "strMapping_naturalistic = {'cu':'Connie/cube/',\n",
    "              'cy':'Connie/cylinder/',\n",
    "              'sp':'Connie/sphere/'}\n",
    "\n",
    "def fix_slashes(path_list):\n",
    "    return [path.replace('\\\\', '/') for path in path_list]\n",
    "\n",
    "#Cue colors\n",
    "cueColArr = [[64,128,72],[128,64,128]]\n",
    "cueColDefault = [128,115,96]\n",
    "\n",
    "# Load stimuli (jpg + png)\n",
    "MycahCube = fix_slashes(glob.glob(imageFilePath+'/Mycah/cube/*.jpg') + glob.glob(imageFilePath+'/Mycah/cube/*.png'))\n",
    "MycahCylinder = fix_slashes(glob.glob(imageFilePath+'/Mycah/cylinder/*.jpg') + glob.glob(imageFilePath+'/Mycah/cylinder/*.png'))\n",
    "MycahSphere = fix_slashes(glob.glob(imageFilePath+'/Mycah/sphere/*.jpg') + glob.glob(imageFilePath+'/Mycah/sphere/*.png'))\n",
    "\n",
    "ConnieCube = fix_slashes(glob.glob(imageFilePath+'/Connie/cube/*.jpg') + glob.glob(imageFilePath+'/Connie/cube/*.png'))\n",
    "ConnieCylinder = fix_slashes(glob.glob(imageFilePath+'/Connie/cylinder/*.jpg') + glob.glob(imageFilePath+'/Connie/cylinder/*.png'))\n",
    "ConnieSphere = fix_slashes(glob.glob(imageFilePath+'/Connie/sphere/*.jpg') + glob.glob(imageFilePath+'/Connie/sphere/*.png'))\n",
    "\n",
    "# Combine and shuffle\n",
    "MycahConnieCube = MycahCube + ConnieCube\n",
    "random.shuffle(MycahConnieCube)\n",
    "\n",
    "MycahConnieCylinder = MycahCylinder + ConnieCylinder\n",
    "random.shuffle(MycahConnieCylinder)\n",
    "\n",
    "MycahConnieSphere = MycahSphere + ConnieSphere\n",
    "random.shuffle(MycahConnieSphere)\n",
    "\n",
    "all_images = MycahConnieCube + MycahConnieCylinder + MycahConnieSphere \n",
    "\n",
    "#info for the images\n",
    "fixSize = np.array([0.12,0.12])#np.array([0.16,0.16])\n",
    "\n",
    "#other images  \n",
    "retrocueMask = visual.ImageStim(\n",
    "    win,\n",
    "    image='c:/Users/cocon/OneDrive/Documents/GitHub/Kiyonaga-Lab/PNR Project/visualObj/retroCue.png',  # <- your uploaded image!\n",
    "    size=fixSize  # adjust size if needed\n",
    ")\n",
    "#fixationCross\n",
    "fixCircMask = visual.ImageStim(\n",
    "    win,\n",
    "    image='c:/Users/cocon/OneDrive/Documents/GitHub/Kiyonaga-Lab/PNR Project/visualObj/fixCirc.png',  # <- your uploaded image!\n",
    "    size=fixSize  # adjust size if needed\n",
    ")\n",
    "#cueCircle\n",
    "cueCircColor = visual.Polygon(win,edges = 4,radius=1,ori = 45,colorSpace = 'rgb255',fillColor=cueColDefault,size= fixSize/2)\n",
    "\n",
    "\n",
    "#pathways \n",
    "saved_image_paths =[]\n",
    "probeTypePath = \"\"\n",
    "\n",
    "#trial info \n",
    "blkTotal = 10\n",
    "trlEachBlk = 20\n",
    "trlTotal = len(all_images)\n",
    "trlCnt = 0\n",
    "trlTotal = blkTotal*trlEachBlk\n",
    "repsEachCat = int(trlTotal/2)\n",
    "distractorArr = np.asarray([0]*trlTotal)\n",
    "\n",
    "\n",
    "#init position/size related params\n",
    "leftImPos = [-0.2,0]\n",
    "rightImPos = [0.2,0]\n",
    "#create memory items\n",
    "imLeft = visual.ImageStim(win, )\n",
    "imRight = visual.ImageStim(win, )\n",
    "imRight.setPos(rightImPos)\n",
    "imLeft.setPos(leftImPos)"
   ]
  },
  {
   "cell_type": "markdown",
   "metadata": {},
   "source": [
    "# Load Fixation "
   ]
  },
  {
   "cell_type": "code",
   "execution_count": null,
   "metadata": {},
   "outputs": [
    {
     "data": {
      "text/plain": [
       "50"
      ]
     },
     "execution_count": 9,
     "metadata": {},
     "output_type": "execute_result"
    }
   ],
   "source": [
    "cueCircColor.setAutoDraw(True)\n",
    "fixCircMask.setAutoDraw(True)\n",
    "\n",
    "clock.reset()\n",
    "kb.clock.reset()\n",
    "kb.clearEvents()\n",
    "\n",
    "win.flip()"
   ]
  },
  {
   "cell_type": "markdown",
   "metadata": {},
   "source": [
    "# Load Stimuli + Delay after 1000ms"
   ]
  },
  {
   "cell_type": "code",
   "execution_count": null,
   "metadata": {},
   "outputs": [
    {
     "ename": "NameError",
     "evalue": "name 'visual' is not defined",
     "output_type": "error",
     "traceback": [
      "\u001b[31m---------------------------------------------------------------------------\u001b[39m",
      "\u001b[31mNameError\u001b[39m                                 Traceback (most recent call last)",
      "\u001b[36mCell\u001b[39m\u001b[36m \u001b[39m\u001b[32mIn[15]\u001b[39m\u001b[32m, line 2\u001b[39m\n\u001b[32m      1\u001b[39m \u001b[38;5;66;03m# Setup your left and right images\u001b[39;00m\n\u001b[32m----> \u001b[39m\u001b[32m2\u001b[39m leftImage = \u001b[43mvisual\u001b[49m.ImageStim(win, pos=(-\u001b[32m300\u001b[39m, \u001b[32m0\u001b[39m))\n\u001b[32m      3\u001b[39m rightImage = visual.ImageStim(win, pos=(\u001b[32m300\u001b[39m, \u001b[32m0\u001b[39m))\n\u001b[32m      5\u001b[39m \u001b[38;5;66;03m# Select images for this trial\u001b[39;00m\n",
      "\u001b[31mNameError\u001b[39m: name 'visual' is not defined"
     ]
    }
   ],
   "source": [
    "# Setup your left and right images\n",
    "leftImage = visual.ImageStim(win, pos=(-300, 0))\n",
    "rightImage = visual.ImageStim(win, pos=(300, 0))\n",
    "\n",
    "# Select images for this trial\n",
    "selected_images = random.sample(all_images, 2)\n",
    "leftImage.image = selected_images[0]\n",
    "rightImage.image = selected_images[1]\n",
    "\n",
    "# Set images to auto-draw too\n",
    "leftImage.setAutoDraw(True)\n",
    "rightImage.setAutoDraw(True)\n",
    "\n",
    "# Now your fixation and images are all ready to display\n",
    "cueCircColor.setAutoDraw(True)\n",
    "fixCircMask.setAutoDraw(True)\n",
    "\n",
    "clock.reset()\n",
    "kb.clock.reset()\n",
    "kb.clearEvents()\n",
    "\n",
    "win.flip()  # flip once to show everything together\n",
    "\n",
    "# --- wait or collect responses here ---\n",
    "core.wait(2.0)  # e.g., wait for 1 second\n",
    "\n",
    "# --- Now turn off images, but KEEP fixation ---\n",
    "leftImage.setAutoDraw(False)\n",
    "rightImage.setAutoDraw(False)\n",
    "\n",
    "win.flip()  # flip to update (now only fixation will be on screen)\n",
    "\n",
    "core.wait(2.0)  # show just the fixation for 500 ms\n",
    "\n",
    "# --- Turn everything off before next trial ---\n",
    "cueCircColor.setAutoDraw(False)\n",
    "fixCircMask.setAutoDraw(False)\n",
    "\n",
    "win.flip()  # clear screen (optional before next trial)\n"
   ]
  },
  {
   "cell_type": "code",
   "execution_count": null,
   "metadata": {},
   "outputs": [
    {
     "ename": "NameError",
     "evalue": "name 'win' is not defined",
     "output_type": "error",
     "traceback": [
      "\u001b[31m---------------------------------------------------------------------------\u001b[39m",
      "\u001b[31mNameError\u001b[39m                                 Traceback (most recent call last)",
      "\u001b[36mCell\u001b[39m\u001b[36m \u001b[39m\u001b[32mIn[35]\u001b[39m\u001b[32m, line 5\u001b[39m\n\u001b[32m      3\u001b[39m rightImage = selected_images[\u001b[32m1\u001b[39m]\n\u001b[32m      4\u001b[39m selected_images\n\u001b[32m----> \u001b[39m\u001b[32m5\u001b[39m \u001b[38;5;28mprint\u001b[39m(\u001b[43mwin\u001b[49m.size) \n",
      "\u001b[31mNameError\u001b[39m: name 'win' is not defined"
     ]
    }
   ],
   "source": [
    "selected_images = random.sample(all_images, 2)\n",
    "leftImage = selected_images[0]\n",
    "rightImage = selected_images[1]\n",
    "selected_images"
   ]
  },
  {
   "cell_type": "markdown",
   "metadata": {},
   "source": [
    "# Retrocue "
   ]
  },
  {
   "cell_type": "code",
   "execution_count": null,
   "metadata": {},
   "outputs": [],
   "source": [
    "# Randomly set retrocue direction (left or right)\n",
    "retrocue_direction = random.choice([0, 180])  # 0 = right, 180 = left\n",
    "retrocueMask.ori = retrocue_direction\n",
    "\n",
    "cueCircColor.colorSpace = 'rgb255'\n",
    "cueCircColor.color = cueCorThis\n",
    "cueCircColor.setAutoDraw(True)\n",
    "retrocueMask.setAutoDraw(True)\n",
    "\n",
    "clock.reset()\n",
    "kb.clock.reset()\n",
    "kb.clearEvents()\n",
    "\n",
    "win.flip()\n"
   ]
  }
 ],
 "metadata": {
  "kernelspec": {
   "display_name": "Python 3",
   "language": "python",
   "name": "python3"
  },
  "language_info": {
   "codemirror_mode": {
    "name": "ipython",
    "version": 3
   },
   "file_extension": ".py",
   "mimetype": "text/x-python",
   "name": "python",
   "nbconvert_exporter": "python",
   "pygments_lexer": "ipython3",
   "version": "3.11.9"
  }
 },
 "nbformat": 4,
 "nbformat_minor": 2
}
